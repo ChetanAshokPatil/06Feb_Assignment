{
 "cells": [
  {
   "cell_type": "code",
   "execution_count": 7,
   "id": "bf4097b6-b5d9-44dc-9c45-beb5a0dfb04a",
   "metadata": {},
   "outputs": [],
   "source": [
    "# Que 1 Answer:\n",
    "def product_of_numbers(lst):\n",
    "    flat_lst = []\n",
    "    for item in lst:\n",
    "        if isinstance(item, list):\n",
    "            flat_lst.extend(item)\n",
    "        elif isinstance(item, tuple):\n",
    "            flat_lst.extend(item)\n",
    "        elif isinstance(item, set):\n",
    "            flat_lst.extend(item)\n",
    "        elif isinstance(item, dict):\n",
    "            for value in item.values():\n",
    "                if isinstance(value, list):\n",
    "                    flat_lst.extend(value)\n",
    "                elif isinstance(value, tuple):\n",
    "                    flat_lst.extend(value)\n",
    "                elif isinstance(value, int):\n",
    "                    flat_lst.append(value)\n",
    "        elif isinstance(item, int):\n",
    "            flat_lst.append(item)\n",
    "\n",
    "    product = 1\n",
    "    for num in flat_lst:\n",
    "        product *= num\n",
    "\n",
    "    return product\n"
   ]
  },
  {
   "cell_type": "code",
   "execution_count": 8,
   "id": "a9c1dae7-e596-496f-9982-0b5ce56f35b6",
   "metadata": {},
   "outputs": [
    {
     "name": "stdout",
     "output_type": "stream",
     "text": [
      "\n"
     ]
    }
   ],
   "source": [
    "list1 = [1,2,3,4, [44,55,66, True], False, (34,56,78,89,34), {1,2,3,3,2,1}, {1:34, \"key2\": [55, 67, 78, 89], 4: (45, 22, 61, 34)}, [56, 'data science'], 'Machine Learning']\n",
    "result = product_of_numbers(list1)\n",
    "print(result)\n"
   ]
  },
  {
   "cell_type": "code",
   "execution_count": 9,
   "id": "25c5e267-e43d-4c1f-8841-26f36a0a4018",
   "metadata": {},
   "outputs": [
    {
     "name": "stdout",
     "output_type": "stream",
     "text": [
      "r$dzmg$gl$yvxlnv$z$wzgz$hxrvmgrhg.\n"
     ]
    }
   ],
   "source": [
    "# Que 2 Answer :\n",
    "def encrypt_message(message):\n",
    "    message = message.lower()\n",
    "    encrypted_message = \"\"\n",
    "    for char in message:\n",
    "        if char.isalpha():\n",
    "            encrypted_char = chr(ord('a') + ord('z') - ord(char))\n",
    "            encrypted_message += encrypted_char\n",
    "        elif char == \" \":\n",
    "            encrypted_message += \"$\"\n",
    "        else:\n",
    "            encrypted_message += char\n",
    "    return encrypted_message\n",
    "input_sentence = \"I want to become a Data Scientist.\"\n",
    "encrypted_sentence = encrypt_message(input_sentence)\n",
    "print(encrypted_sentence)"
   ]
  },
  {
   "cell_type": "code",
   "execution_count": null,
   "id": "25535493-1a98-46e8-81f3-9749fbb41406",
   "metadata": {},
   "outputs": [],
   "source": []
  }
 ],
 "metadata": {
  "kernelspec": {
   "display_name": "Python 3 (ipykernel)",
   "language": "python",
   "name": "python3"
  },
  "language_info": {
   "codemirror_mode": {
    "name": "ipython",
    "version": 3
   },
   "file_extension": ".py",
   "mimetype": "text/x-python",
   "name": "python",
   "nbconvert_exporter": "python",
   "pygments_lexer": "ipython3",
   "version": "3.10.8"
  }
 },
 "nbformat": 4,
 "nbformat_minor": 5
}
