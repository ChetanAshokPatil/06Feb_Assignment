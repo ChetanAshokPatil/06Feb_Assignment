{
 "cells": [
  {
   "cell_type": "code",
   "execution_count": 2,
   "id": "bf4097b6-b5d9-44dc-9c45-beb5a0dfb04a",
   "metadata": {},
   "outputs": [
    {
     "name": "stdout",
     "output_type": "stream",
     "text": [
      "Flat list : [1, 2, 3, 4, 44, 55, 66, True, False, 34, 56, 78, 89, 34, 1, 2, 3, 1, 34, 'key2', 55, 67, 78, 89, 4, 45, 22, 61, 34, 56, 'data science', 'Machine Learning']\n",
      "\n",
      "Product is: 4134711838987085478833841242112000\n"
     ]
    }
   ],
   "source": [
    "# Que 1 Answer:\n",
    "def flat_List_Creation(lst):\n",
    "    \"\"\"Function for creating a flat list from the given iterable\"\"\"\n",
    "    \n",
    "    flat_lst = []\n",
    "    \n",
    "    for item in lst:\n",
    "        \n",
    "        if isinstance(item, (int, float, str)):\n",
    "            flat_lst.append(item)\n",
    "            \n",
    "        elif isinstance(item, dict):\n",
    "            for key, value in item.items():\n",
    "                if isinstance(key, (int, float, str)):\n",
    "                    flat_lst.append(key)\n",
    "                else:\n",
    "                    flat_lst.extend(flat_List_Creation(key))\n",
    "                    \n",
    "                if isinstance(value, (int, float, str)):\n",
    "                    flat_lst.append(value)\n",
    "                else:\n",
    "                    flat_lst.extend(flat_List_Creation(value))\n",
    "            \n",
    "        else:\n",
    "            flat_lst.extend(flat_List_Creation(item))\n",
    "            \n",
    "    return flat_lst\n",
    "    \n",
    "def num_Product(flat_lst):\n",
    "    \"\"\"Function to calculate the product of all numbers in the flat list\"\"\"\n",
    "    product = 1\n",
    "    \n",
    "    for ele in flat_lst:\n",
    "        \n",
    "        if type(ele) == int or type(ele) == float:\n",
    "            product *= ele\n",
    "       \n",
    "    print(f\"\\nProduct is: {product}\")\n",
    "        \n",
    "\n",
    "\n",
    "list1 = [1,2,3,4, [44,55,66, True], False, (34,56,78,89,34), {1,2,3,3,2,1}, {1:34, \"key2\": [55, 67, 78, 89], 4: (45, 22, 61, 34)}, [56, 'data science'], 'Machine Learning']\n",
    "\n",
    "flat_lst = flat_List_Creation(list1) \n",
    "print(f\"Flat list : {flat_lst}\")\n",
    "num_Product(flat_lst)"
   ]
  },
  {
   "cell_type": "code",
   "execution_count": 9,
   "id": "25c5e267-e43d-4c1f-8841-26f36a0a4018",
   "metadata": {},
   "outputs": [
    {
     "name": "stdout",
     "output_type": "stream",
     "text": [
      "r$dzmg$gl$yvxlnv$z$wzgz$hxrvmgrhg.\n"
     ]
    }
   ],
   "source": [
    "# Que 2 Answer :\n",
    "def encrypt_message(message):\n",
    "    message = message.lower()\n",
    "    encrypted_message = \"\"\n",
    "    for char in message:\n",
    "        if char.isalpha():\n",
    "            encrypted_char = chr(ord('a') + ord('z') - ord(char))\n",
    "            encrypted_message += encrypted_char\n",
    "        elif char == \" \":\n",
    "            encrypted_message += \"$\"\n",
    "        else:\n",
    "            encrypted_message += char\n",
    "    return encrypted_message\n",
    "input_sentence = \"I want to become a Data Scientist.\"\n",
    "encrypted_sentence = encrypt_message(input_sentence)\n",
    "print(encrypted_sentence)"
   ]
  },
  {
   "cell_type": "code",
   "execution_count": null,
   "id": "25535493-1a98-46e8-81f3-9749fbb41406",
   "metadata": {},
   "outputs": [],
   "source": []
  }
 ],
 "metadata": {
  "kernelspec": {
   "display_name": "Python 3 (ipykernel)",
   "language": "python",
   "name": "python3"
  },
  "language_info": {
   "codemirror_mode": {
    "name": "ipython",
    "version": 3
   },
   "file_extension": ".py",
   "mimetype": "text/x-python",
   "name": "python",
   "nbconvert_exporter": "python",
   "pygments_lexer": "ipython3",
   "version": "3.10.8"
  }
 },
 "nbformat": 4,
 "nbformat_minor": 5
}
